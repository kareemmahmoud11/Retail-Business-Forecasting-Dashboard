{
 "cells": [
  {
   "cell_type": "code",
   "execution_count": 1,
   "id": "1798301e",
   "metadata": {},
   "outputs": [
    {
     "name": "stderr",
     "output_type": "stream",
     "text": [
      "c:\\Users\\kareem Mahmoud\\miniconda3\\Lib\\site-packages\\tqdm\\auto.py:21: TqdmWarning: IProgress not found. Please update jupyter and ipywidgets. See https://ipywidgets.readthedocs.io/en/stable/user_install.html\n",
      "  from .autonotebook import tqdm as notebook_tqdm\n"
     ]
    }
   ],
   "source": [
    "import pandas as pd\n",
    "import numpy as np\n",
    "from xgboost import XGBRegressor\n",
    "from sklearn.pipeline import Pipeline\n",
    "from sklearn.preprocessing import StandardScaler\n",
    "from sklearn.compose import ColumnTransformer\n",
    "from sklearn.metrics import mean_absolute_error, mean_absolute_percentage_error\n",
    "from sklearn.model_selection import train_test_split\n",
    "import datetime\n",
    "import matplotlib.pyplot as plt\n",
    "from sklearn.metrics import mean_absolute_error, mean_squared_error\n",
    "import numpy as np\n",
    "from prophet import Prophet"
   ]
  },
  {
   "cell_type": "code",
   "execution_count": null,
   "id": "5ffda6f6",
   "metadata": {},
   "outputs": [
    {
     "name": "stderr",
     "output_type": "stream",
     "text": [
      "13:03:54 - cmdstanpy - INFO - Chain [1] start processing\n",
      "13:03:54 - cmdstanpy - INFO - Chain [1] done processing\n"
     ]
    }
   ],
   "source": [
    "from prophet import Prophet\n",
    "import pandas as pd\n",
    "\n",
    "\n",
    "df=pd.read_csv(r\"D:\\powerbi pl300\\Resources\\Resources\\Profit dataset.csv\")\n",
    "data=df.drop([\"Reveune\",\"Quantity\"],axis=1)\n",
    "data[\"Date\"]=pd.to_datetime(data[\"Date\"])\n",
    "\n",
    "data = data.groupby('Date').sum().reset_index()\n",
    "data.columns = ['ds', 'y'] \n",
    "\n",
    "data['ds'] = pd.to_datetime(data['ds'])\n",
    "\n",
    "\n",
    "last_date = data['ds'].max()\n",
    "\n",
    "\n",
    "model = Prophet()\n",
    "model.fit(data)\n",
    "\n",
    "\n",
    "future = model.make_future_dataframe(periods=914)\n",
    "\n",
    "\n",
    "forecast = model.predict(future)\n",
    "\n",
    "\n",
    "forecast['yhat_avg'] = forecast[['yhat_lower', 'yhat_upper']].mean(axis=1)\n",
    "\n",
    "forecast_future_only = forecast[forecast['ds'] > last_date]\n",
    "\n",
    "\n",
    "forecast_future_only[['ds', 'yhat', 'yhat_lower', 'yhat_upper', 'yhat_avg']].to_csv(r'D:\\powerbi pl300\\Resources\\Resources\\forecast_only_future.csv', index=False)\n"
   ]
  },
  {
   "cell_type": "code",
   "execution_count": null,
   "id": "88cb204d",
   "metadata": {},
   "outputs": [],
   "source": []
  }
 ],
 "metadata": {
  "kernelspec": {
   "display_name": "base",
   "language": "python",
   "name": "python3"
  },
  "language_info": {
   "codemirror_mode": {
    "name": "ipython",
    "version": 3
   },
   "file_extension": ".py",
   "mimetype": "text/x-python",
   "name": "python",
   "nbconvert_exporter": "python",
   "pygments_lexer": "ipython3",
   "version": "3.12.3"
  }
 },
 "nbformat": 4,
 "nbformat_minor": 5
}
